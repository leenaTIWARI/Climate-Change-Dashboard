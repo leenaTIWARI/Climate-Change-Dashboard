# EDA & Preprocessing for Climate Change Impact Dashboard

import pandas as pd
import numpy as np
import seaborn as sns
import matplotlib.pyplot as plt
import plotly.express as px

# Load Dataset
df = pd.read_csv('data/global_temperature.csv')  # Example dataset

# Display basic information
print(df.info())
print(df.describe())

# Rename columns for clarity if needed
df.columns = df.columns.str.strip().str.lower().str.replace(' ', '_')

# Handling missing values
missing = df.isnull().sum()
print("Missing values:\n", missing)
df = df.fillna(method='ffill')  # Forward fill missing values

# Convert date column to datetime
df['year'] = pd.to_datetime(df['year'], format='%Y')

# Data integrity check
assert not df.duplicated().any(), "There are duplicated rows!"

# Outlier Detection (Z-score)
from scipy.stats import zscore
df['z_temp'] = zscore(df['temperature_anomaly'])
df = df[df['z_temp'].abs() < 3]  # Remove outliers

# Feature Engineering
df['decade'] = df['year'].dt.year // 10 * 10

# Summary Stats
print(df.groupby('decade')['temperature_anomaly'].mean())

# Line Plot - Temperature over time
plt.figure(figsize=(12, 6))
sns.lineplot(x='year', y='temperature_anomaly', data=df)
plt.title("Global Temperature Anomaly Over Time")
plt.xlabel("Year")
plt.ylabel("Temperature Anomaly (°C)")
plt.grid(True)
plt.savefig("visuals/temp_anomaly_over_time.png")
plt.show()

# Box Plot - Temperature by Decade
plt.figure(figsize=(10, 5))
sns.boxplot(x='decade', y='temperature_anomaly', data=df)
plt.title("Temperature Anomaly by Decade")
plt.savefig("visuals/temp_by_decade.png")
plt.show()

# Correlation Heatmap
corr = df.select_dtypes(include=np.number).corr()
sns.heatmap(corr, annot=True, cmap='coolwarm')
plt.title("Correlation Matrix")
plt.savefig("visuals/correlation_matrix.png")
plt.show()

# Interactive Plot - Plotly
fig = px.line(df, x='year', y='temperature_anomaly', title='Interactive Global Temperature Anomaly')
fig.show()
