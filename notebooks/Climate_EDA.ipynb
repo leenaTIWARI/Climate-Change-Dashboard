{
 "cells": [
  {
   "cell_type": "markdown",
   "metadata": {},
   "source": [
    "# Climate Change EDA\n",
    "This notebook performs data preprocessing and EDA."
   ]
  },
  {
   "cell_type": "code",
   "execution_count": null,
   "metadata": {},
   "outputs": [],
   "source": [
    "import pandas as pd\n",
    "import numpy as np\n",
    "import seaborn as sns\n",
    "import matplotlib.pyplot as plt\n",
    "import plotly.express as px\n",
    "from scipy.stats import zscore\n",
    "\n",
    "# Load dataset\n",
    "df = pd.read_csv('../data/sample_climate_data.csv')\n",
    "df['year'] = pd.to_datetime(df['year'], format='%Y')\n",
    "\n",
    "# Handle missing values (if any)\n",
    "df.fillna(method='ffill', inplace=True)\n",
    "\n",
    "# Add new column: decade\n",
    "df['decade'] = df['year'].dt.year // 10 * 10\n",
    "\n",
    "# Remove outliers using Z-score\n",
    "df['z_temp'] = zscore(df['temperature_anomaly'])\n",
    "df = df[df['z_temp'].abs() < 3]\n",
    "\n",
    "# Summary statistics\n",
    "print(df.describe())\n",
    "\n",
    "# Line plot\n",
    "sns.set_theme(style='darkgrid')\n",
    "plt.figure(figsize=(10, 5))\n",
    "sns.lineplot(data=df, x='year', y='temperature_anomaly')\n",
    "plt.title('Global Temperature Anomaly Over Time')\n",
    "plt.xlabel('Year')\n",
    "plt.ylabel('Temperature Anomaly (°C)')\n",
    "plt.xticks(rotation=45)\n",
    "plt.tight_layout()\n",
    "plt.savefig('../visuals/temp_anomaly_over_time.png')\n",
    "plt.show()"
   ]
  }
 ],
 "metadata": {
  "kernelspec": {
   "display_name": "Python 3",
   "language": "python",
   "name": "python3"
  },
  "language_info": {
   "name": "python",
   "version": "3.8"
  }
 },
 "nbformat": 4,
 "nbformat_minor": 2
}
